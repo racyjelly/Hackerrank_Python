{
 "cells": [
  {
   "cell_type": "code",
   "execution_count": 2,
   "id": "46f678da",
   "metadata": {},
   "outputs": [
    {
     "name": "stdout",
     "output_type": "stream",
     "text": [
      "0.24.1\n"
     ]
    }
   ],
   "source": [
    "#사이킷런 버전 확인하기!\n",
    "import sklearn\n",
    "print(sklearn.__version__)"
   ]
  },
  {
   "cell_type": "code",
   "execution_count": 5,
   "id": "2d10c52e",
   "metadata": {},
   "outputs": [],
   "source": [
    "import numpy as np"
   ]
  },
  {
   "cell_type": "code",
   "execution_count": 8,
   "id": "944cf28b",
   "metadata": {},
   "outputs": [
    {
     "data": {
      "text/plain": [
       "array([1, 2, 3])"
      ]
     },
     "execution_count": 8,
     "metadata": {},
     "output_type": "execute_result"
    }
   ],
   "source": [
    "np.array([1,2,3])"
   ]
  },
  {
   "cell_type": "code",
   "execution_count": 9,
   "id": "9e6c9475",
   "metadata": {},
   "outputs": [],
   "source": [
    "list1 = [1,2,3]"
   ]
  },
  {
   "cell_type": "code",
   "execution_count": 13,
   "id": "ded9f863",
   "metadata": {},
   "outputs": [
    {
     "name": "stdout",
     "output_type": "stream",
     "text": [
      "<class 'numpy.ndarray'>\n",
      "<class 'list'>\n",
      "(3,)\n",
      "1\n"
     ]
    }
   ],
   "source": [
    "array1=np.array([1,2,3])\n",
    "\n",
    "#코드의 앞으로 가려면 HOME버튼 뒤로 가려먼 END버튼을 사용해보자!\n",
    "\n",
    "#array의 type을 확인하는 코드\n",
    "print(type(array1))\n",
    "\n",
    "#list1의 type을 확인하는 코드\n",
    "print(type(list1))\n",
    "\n",
    "#array의 형태를 확인하는 코드\n",
    "print(array1.shape)\n",
    "\n",
    "#array의 차원을 확인하는 코드\n",
    "print(array1.ndim)"
   ]
  },
  {
   "cell_type": "code",
   "execution_count": 17,
   "id": "082d89fa",
   "metadata": {},
   "outputs": [
    {
     "name": "stdout",
     "output_type": "stream",
     "text": [
      "(2, 1, 3)\n",
      "3\n"
     ]
    }
   ],
   "source": [
    "array2 = np.array([[[1,2,3]],[[5,6,7]]])\n",
    "\n",
    "#형태가 (2,1,3)으로 나오는 이유는? :: 뒤에서부터 세기 때문에!\n",
    "#요소가 3개인 덩어리가 크게는 한개가 있는데 그 안에 두개의 덩어리가 있구나!\n",
    "print(array2.shape)\n",
    "#그리고 차원이 3차원인 이유는 []이 꺽쇠 표시가 3개 있기 때문\n",
    "print(array2.ndim)"
   ]
  },
  {
   "cell_type": "markdown",
   "id": "e446b314",
   "metadata": {},
   "source": [
    "## array에서 형태와 차원을 파악하는 것은 매우 중요"
   ]
  },
  {
   "cell_type": "markdown",
   "id": "25db4cfc",
   "metadata": {},
   "source": [
    "> Array의 형태와 차원 연습해보기"
   ]
  },
  {
   "cell_type": "code",
   "execution_count": 19,
   "id": "d0e1b0b6",
   "metadata": {},
   "outputs": [
    {
     "name": "stdout",
     "output_type": "stream",
     "text": [
      "(1, 3)\n",
      "2\n"
     ]
    }
   ],
   "source": [
    "array3 = np.array([[1,2,3]])\n",
    "print(array3.shape)\n",
    "#3개의 요소가 크게 한 덩어리!\n",
    "print(array3.ndim)\n",
    "#꺽쇠가 두개니까 2차원 이겠구나를 예상해보기"
   ]
  },
  {
   "cell_type": "code",
   "execution_count": 21,
   "id": "6f3cfc86",
   "metadata": {},
   "outputs": [
    {
     "name": "stdout",
     "output_type": "stream",
     "text": [
      "(3,)\n",
      "1\n"
     ]
    }
   ],
   "source": [
    "array4 = np.array([1,2,3])\n",
    "print(array4.shape)\n",
    "#3개 요소가 끝이니까 (,3)으로 나오려나?\n",
    "print(array4.ndim)\n",
    "#꺽쇠가 하나니까 1차원이겠구나"
   ]
  },
  {
   "cell_type": "code",
   "execution_count": 22,
   "id": "1622d22d",
   "metadata": {},
   "outputs": [],
   "source": [
    "#결과는 X :: 튜플 형태는 무조건 뒤에 콤마가 있어야 한다\n",
    "#(1,3) 이런식으로 결과값이 하나를 도출할 경우 (3,)으로 표현한다 *^^*"
   ]
  },
  {
   "cell_type": "markdown",
   "id": "e05d0820",
   "metadata": {},
   "source": [
    "## (2,3,1) (2,1,3) (2,2,1,4) 스스로 만들어보기"
   ]
  },
  {
   "cell_type": "code",
   "execution_count": 39,
   "id": "7310b35b",
   "metadata": {},
   "outputs": [
    {
     "name": "stdout",
     "output_type": "stream",
     "text": [
      "(2, 3, 1)\n",
      "3\n"
     ]
    }
   ],
   "source": [
    "array5 = np.array([[[1],[2],[3]],[[4],[5],[6]]])\n",
    "print(array5.shape)\n",
    "#요소 1개짜리 덩어리가 3개 그리고 그 3개짜리 덩어리가 2개! (2,3,1)\n",
    "print(array5.ndim)\n",
    "#꺽쇠가 3개니 3차원!"
   ]
  },
  {
   "cell_type": "code",
   "execution_count": 38,
   "id": "fe2ed046",
   "metadata": {},
   "outputs": [
    {
     "name": "stdout",
     "output_type": "stream",
     "text": [
      "(2, 1, 3)\n",
      "3\n"
     ]
    }
   ],
   "source": [
    "array6 = np.array([[['Jake','Finn','BubbleGum']],\n",
    "                   [['Marceline','Bmo','Ice King']]])\n",
    "print(array6.shape)\n",
    "#요소 3개짜리 덩어리가 1개 그리고 그 1개짜리 덩어리가 2개! (2,1,3)\n",
    "print(array6.ndim)\n",
    "#꺽쇠가 3개니 3차원!"
   ]
  },
  {
   "cell_type": "code",
   "execution_count": 65,
   "id": "abbf2305",
   "metadata": {},
   "outputs": [
    {
     "name": "stdout",
     "output_type": "stream",
     "text": [
      "(2, 2, 1, 4)\n",
      "4\n",
      "Array연산: \n",
      "\n",
      "[[[[ 2  4  6  8]]\n",
      "\n",
      "  [[10 12 14 16]]]\n",
      "\n",
      "\n",
      " [[[18 20 22 24]]\n",
      "\n",
      "  [[26 28 30 32]]]]\n"
     ]
    }
   ],
   "source": [
    "array7 = np.array([[[[1,2,3,4]],[[5,6,7,8]]],[[[9,10,11,12]],[[13,14,15,16]]]])\n",
    "print(array7.shape)\n",
    "#요소 4개짜리 덩어리가 1개씩 있는게 2 덩어리 그리고 그 덩어리가 2개! (2,2,1,4)\n",
    "print(array7.ndim)\n",
    "#꺽쇠가 4개니 4차원!\n",
    "print('Array연산: \\n')\n",
    "print(array7*2)"
   ]
  },
  {
   "cell_type": "markdown",
   "id": "efcbf3e1",
   "metadata": {},
   "source": [
    "## array를 reshape 하기"
   ]
  },
  {
   "cell_type": "code",
   "execution_count": 69,
   "id": "ece99679",
   "metadata": {},
   "outputs": [
    {
     "name": "stdout",
     "output_type": "stream",
     "text": [
      "[0 1 2 3 4 5 6 7 8 9]\n",
      "int32 (10,) 1\n"
     ]
    }
   ],
   "source": [
    "import numpy as np\n",
    "sequence_array = np.arange(10) \n",
    "#a range :: not arrange 정렬하는게 아니라 범위!\n",
    "#그래서 1부터 10까지의 범위를 출력함 (python은 0부터 시작하고 10까지 할 경우 그 전인 9까지 출력)\n",
    "print(sequence_array)\n",
    "print(sequence_array.dtype, sequence_array.shape, sequence_array.ndim)\n",
    "#sequence_array의 타입은 int(정수형) , 요소는 10개, 1차원"
   ]
  },
  {
   "cell_type": "code",
   "execution_count": 74,
   "id": "4e3111f9",
   "metadata": {},
   "outputs": [
    {
     "name": "stdout",
     "output_type": "stream",
     "text": [
      "[[0 1 2 3 4]\n",
      " [5 6 7 8 9]]\n",
      "2\n",
      "[[0]\n",
      " [1]\n",
      " [2]\n",
      " [3]\n",
      " [4]\n",
      " [5]\n",
      " [6]\n",
      " [7]\n",
      " [8]\n",
      " [9]]\n",
      "2\n"
     ]
    }
   ],
   "source": [
    "#1차원 array를 2차원 array로 바꾸기\n",
    "sequence_array2 = sequence_array.reshape(2,5)\n",
    "print(sequence_array2)\n",
    "print(sequence_array2.ndim)\n",
    "#요소 5개씩 2덩어리\n",
    "\n",
    "sequence_array3 = sequence_array.reshape(10,1)\n",
    "print(sequence_array3)\n",
    "print(sequence_array3.ndim)"
   ]
  },
  {
   "cell_type": "markdown",
   "id": "0b325a64",
   "metadata": {},
   "source": [
    "## ndrray를 편리하게 생성하기 - arange, zeros, ones"
   ]
  },
  {
   "cell_type": "code",
   "execution_count": 75,
   "id": "d7447d3a",
   "metadata": {},
   "outputs": [
    {
     "data": {
      "text/plain": [
       "range(0, 10)"
      ]
     },
     "execution_count": 75,
     "metadata": {},
     "output_type": "execute_result"
    }
   ],
   "source": [
    "range(10)"
   ]
  },
  {
   "cell_type": "code",
   "execution_count": 77,
   "id": "29759a10",
   "metadata": {},
   "outputs": [
    {
     "name": "stdout",
     "output_type": "stream",
     "text": [
      "0\n",
      "1\n",
      "2\n",
      "3\n",
      "4\n",
      "5\n",
      "6\n",
      "7\n",
      "8\n",
      "9\n"
     ]
    }
   ],
   "source": [
    "for i in range(10):\n",
    "    print(i)"
   ]
  },
  {
   "cell_type": "code",
   "execution_count": 94,
   "id": "9b90f768",
   "metadata": {},
   "outputs": [],
   "source": [
    "array8 = np.arange(8)"
   ]
  },
  {
   "cell_type": "markdown",
   "id": "e6aea149",
   "metadata": {},
   "source": [
    "## numpy.reshape()를 이용한 차원 추가"
   ]
  },
  {
   "cell_type": "code",
   "execution_count": 122,
   "id": "c031c8c5",
   "metadata": {},
   "outputs": [
    {
     "name": "stdout",
     "output_type": "stream",
     "text": [
      "[[0 1]\n",
      " [2 3]\n",
      " [4 5]\n",
      " [6 7]]\n",
      "array_rev2의 차원:  2\n",
      "[[[0 1]\n",
      "  [2 3]]\n",
      "\n",
      " [[4 5]\n",
      "  [6 7]]]\n",
      "array_rev3의 차원:  3\n",
      "[[[[0 1]\n",
      "   [2 3]]\n",
      "\n",
      "  [[4 5]\n",
      "   [6 7]]]]\n",
      "array_rev4의 차원:  4\n",
      "[[0 1]\n",
      " [2 3]\n",
      " [4 5]\n",
      " [6 7]]\n",
      "2\n"
     ]
    }
   ],
   "source": [
    "#1차원 array -> 2차원 array\n",
    "array_rev2 = array8.reshape(4,2)\n",
    "print(array_rev2)\n",
    "print('array_rev2의 차원: ',array_rev2.ndim)\n",
    "\n",
    "#2차원 array -> 3차원 array\n",
    "array_rev3 = array_rev2.reshape(2,2,2)\n",
    "print(array_rev3)\n",
    "print('array_rev3의 차원: ',array_rev3.ndim)\n",
    "\n",
    "\n",
    "rray_rev4 = array_rev3.reshape(1,2,2,2)\n",
    "print(array_rev4)\n",
    "print('array_rev4의 차원: ',array_rev4.ndim)\n",
    "\n",
    "#3차원 array -> 2차원 array (어떠한 -값도 오케이!)\n",
    "array_rev2d = array_rev3.reshape(-999,2) \n",
    "print(array_rev2d)\n",
    "print(array_rev2d.ndim)"
   ]
  },
  {
   "cell_type": "code",
   "execution_count": 126,
   "id": "cc83d9c7",
   "metadata": {},
   "outputs": [
    {
     "name": "stdout",
     "output_type": "stream",
     "text": [
      "array3d:\n",
      " [[[0, 1], [2, 3]], [[4, 5], [6, 7]]]\n"
     ]
    },
    {
     "data": {
      "text/plain": [
       "array([[[0, 1],\n",
       "        [2, 3]],\n",
       "\n",
       "       [[4, 5],\n",
       "        [6, 7]]])"
      ]
     },
     "execution_count": 126,
     "metadata": {},
     "output_type": "execute_result"
    }
   ],
   "source": [
    "#tolist()함수는 list로 만드는 함수\n",
    "array_1 = np.arange(8)\n",
    "array3d = array_1.reshape(2,2,2)\n",
    "print('array3d:\\n', array3d.tolist())\n",
    "array3d"
   ]
  },
  {
   "cell_type": "code",
   "execution_count": null,
   "id": "2b0db8c9",
   "metadata": {},
   "outputs": [],
   "source": []
  }
 ],
 "metadata": {
  "kernelspec": {
   "display_name": "Python 3",
   "language": "python",
   "name": "python3"
  },
  "language_info": {
   "codemirror_mode": {
    "name": "ipython",
    "version": 3
   },
   "file_extension": ".py",
   "mimetype": "text/x-python",
   "name": "python",
   "nbconvert_exporter": "python",
   "pygments_lexer": "ipython3",
   "version": "3.8.8"
  }
 },
 "nbformat": 4,
 "nbformat_minor": 5
}
